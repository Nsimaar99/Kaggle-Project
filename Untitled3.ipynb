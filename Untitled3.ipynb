{
  "nbformat": 4,
  "nbformat_minor": 0,
  "metadata": {
    "colab": {
      "provenance": [],
      "gpuType": "T4",
      "authorship_tag": "ABX9TyOFy85eghGGYr9T9mCWh8n4",
      "include_colab_link": true
    },
    "kernelspec": {
      "name": "python3",
      "display_name": "Python 3"
    },
    "language_info": {
      "name": "python"
    },
    "accelerator": "GPU"
  },
  "cells": [
    {
      "cell_type": "markdown",
      "metadata": {
        "id": "view-in-github",
        "colab_type": "text"
      },
      "source": [
        "<a href=\"https://colab.research.google.com/github/Nsimaar99/Kaggle-Project/blob/master/Untitled3.ipynb\" target=\"_parent\"><img src=\"https://colab.research.google.com/assets/colab-badge.svg\" alt=\"Open In Colab\"/></a>"
      ]
    },
    {
      "cell_type": "code",
      "execution_count": 1,
      "metadata": {
        "colab": {
          "base_uri": "https://localhost:8080/"
        },
        "id": "HsB5FH5neZ72",
        "outputId": "a11b35ec-0072-454e-ebc0-d34c9a731099"
      },
      "outputs": [
        {
          "output_type": "stream",
          "name": "stdout",
          "text": [
            "Cloning into 'deep-learning-v2-pytorch'...\n",
            "remote: Enumerating objects: 1731, done.\u001b[K\n",
            "remote: Total 1731 (delta 0), reused 0 (delta 0), pack-reused 1731 (from 1)\u001b[K\n",
            "Receiving objects: 100% (1731/1731), 149.30 MiB | 23.03 MiB/s, done.\n",
            "Resolving deltas: 100% (835/835), done.\n",
            "Updating files: 100% (270/270), done.\n"
          ]
        }
      ],
      "source": [
        "!git clone https://github.com/udacity/deep-learning-v2-pytorch.git"
      ]
    },
    {
      "cell_type": "code",
      "source": [
        "import numpy as np\n",
        "import torch\n",
        "from torch import nn\n",
        "import torch.nn.functional as F"
      ],
      "metadata": {
        "id": "X9nbrhdDerGl"
      },
      "execution_count": 2,
      "outputs": []
    },
    {
      "cell_type": "markdown",
      "source": [
        "**Load in Data**\n",
        "Then, we'll load the Anna Karenina text file and convert it into integers for our network to use."
      ],
      "metadata": {
        "id": "e59k1kQEiT2I"
      }
    },
    {
      "cell_type": "code",
      "source": [
        "# open text file and read in data as `text`\n",
        "with open('/content/deep-learning-v2-pytorch/recurrent-neural-networks/char-rnn/data/anna.txt', 'r') as f:\n",
        "    text = f.read()"
      ],
      "metadata": {
        "id": "B-gIyErGiYpO"
      },
      "execution_count": 3,
      "outputs": []
    },
    {
      "cell_type": "markdown",
      "source": [
        "Let's check out the first 100 characters, make sure everything is peachy. According to the American Book Review, this is the 6th best first line of a book ever."
      ],
      "metadata": {
        "id": "amFbzsCmjSpf"
      }
    },
    {
      "cell_type": "code",
      "source": [
        "text[:100]"
      ],
      "metadata": {
        "colab": {
          "base_uri": "https://localhost:8080/",
          "height": 35
        },
        "id": "rXZ6ZvZnjTwZ",
        "outputId": "21b0eb85-1989-44d0-d0fa-3286778bbcf6"
      },
      "execution_count": 4,
      "outputs": [
        {
          "output_type": "execute_result",
          "data": {
            "text/plain": [
              "'Chapter 1\\n\\n\\nHappy families are all alike; every unhappy family is unhappy in its own\\nway.\\n\\nEverythin'"
            ],
            "application/vnd.google.colaboratory.intrinsic+json": {
              "type": "string"
            }
          },
          "metadata": {},
          "execution_count": 4
        }
      ]
    },
    {
      "cell_type": "markdown",
      "source": [
        "**Tokenization**\n",
        "In the cells, below, I'm creating a couple dictionaries to convert the characters to and from integers. Encoding the characters as integers makes it easier to use as input in the network."
      ],
      "metadata": {
        "id": "sNQXbr4NjiAg"
      }
    },
    {
      "cell_type": "code",
      "source": [
        "# encode the text and map each character to an integer and vice versa\n",
        "\n",
        "# we create two dictionaries:\n",
        "# 1. int2char, which maps integers to characters\n",
        "# 2. char2int, which maps characters to unique integers\n",
        "chars = tuple(set(text))\n",
        "int2char = dict(enumerate(chars))\n",
        "char2int = {ch: ii for ii, ch in int2char.items()}\n",
        "\n",
        "# encode the text\n",
        "encoded = np.array([char2int[ch] for ch in text])"
      ],
      "metadata": {
        "id": "sBMB-p4SjomY"
      },
      "execution_count": 5,
      "outputs": []
    },
    {
      "cell_type": "markdown",
      "source": [
        "And we can see those same characters from above, encoded as integers."
      ],
      "metadata": {
        "id": "9U0OqMK4kbEH"
      }
    },
    {
      "cell_type": "code",
      "source": [
        "encoded[:100]"
      ],
      "metadata": {
        "colab": {
          "base_uri": "https://localhost:8080/"
        },
        "id": "ipJKDRA-kcEB",
        "outputId": "3bb95675-85c2-441a-e094-4d73489117d6"
      },
      "execution_count": 6,
      "outputs": [
        {
          "output_type": "execute_result",
          "data": {
            "text/plain": [
              "array([37, 29, 78, 56, 51, 66, 77, 58, 68, 81, 81, 81, 18, 78, 56, 56,  4,\n",
              "       58, 10, 78, 41, 31, 79, 31, 66, 48, 58, 78, 77, 66, 58, 78, 79, 79,\n",
              "       58, 78, 79, 31, 36, 66, 53, 58, 66, 70, 66, 77,  4, 58, 11,  5, 29,\n",
              "       78, 56, 56,  4, 58, 10, 78, 41, 31, 79,  4, 58, 31, 48, 58, 11,  5,\n",
              "       29, 78, 56, 56,  4, 58, 31,  5, 58, 31, 51, 48, 58, 61, 39,  5, 81,\n",
              "       39, 78,  4,  9, 81, 81, 75, 70, 66, 77,  4, 51, 29, 31,  5])"
            ]
          },
          "metadata": {},
          "execution_count": 6
        }
      ]
    },
    {
      "cell_type": "markdown",
      "source": [
        "**Pre-processing the data**\n",
        "As you can see in our char-RNN image above, our LSTM expects an input that is one-hot encoded meaning that each character is converted into an integer (via our created dictionary) and then converted into a column vector where only it's corresponding integer index will have the value of 1 and the rest of the vector will be filled with 0's. Since we're one-hot encoding the data, let's make a function to do that!"
      ],
      "metadata": {
        "id": "wh8LoDVAkn2q"
      }
    },
    {
      "cell_type": "code",
      "source": [
        "def one_hot_encode(arr, n_labels):\n",
        "\n",
        "    # Initialize the the encoded array\n",
        "    one_hot = np.zeros((arr.size, n_labels), dtype=np.float32)\n",
        "\n",
        "    # Fill the appropriate elements with ones\n",
        "    one_hot[np.arange(one_hot.shape[0]), arr.flatten()] = 1.\n",
        "\n",
        "    # Finally reshape it to get back to the original array\n",
        "    one_hot = one_hot.reshape((*arr.shape, n_labels))\n",
        "\n",
        "    return one_hot"
      ],
      "metadata": {
        "id": "V2cgSiBtkf5g"
      },
      "execution_count": 7,
      "outputs": []
    },
    {
      "cell_type": "code",
      "source": [
        "# check that the function works as expected\n",
        "test_seq = np.array([[3, 5, 1]])\n",
        "one_hot = one_hot_encode(test_seq, 8)\n",
        "\n",
        "print(one_hot)"
      ],
      "metadata": {
        "colab": {
          "base_uri": "https://localhost:8080/"
        },
        "id": "jgzLEQOlk_Jl",
        "outputId": "f0c6f80a-04d2-45f6-a1bc-637ffa3a5d6f"
      },
      "execution_count": 8,
      "outputs": [
        {
          "output_type": "stream",
          "name": "stdout",
          "text": [
            "[[[0. 0. 0. 1. 0. 0. 0. 0.]\n",
            "  [0. 0. 0. 0. 0. 1. 0. 0.]\n",
            "  [0. 1. 0. 0. 0. 0. 0. 0.]]]\n"
          ]
        }
      ]
    },
    {
      "cell_type": "markdown",
      "source": [
        "Creating Batches"
      ],
      "metadata": {
        "id": "zrogIuH0nsPk"
      }
    },
    {
      "cell_type": "code",
      "source": [
        "def get_batches(arr, batch_size, seq_length):\n",
        "    '''Create a generator that returns batches of size\n",
        "       batch_size x seq_length from arr.\n",
        "\n",
        "       Arguments\n",
        "       ---------\n",
        "       arr: Array you want to make batches from\n",
        "       batch_size: Batch size, the number of sequences per batch\n",
        "       seq_length: Number of encoded chars in a sequence\n",
        "    '''\n",
        "\n",
        "    batch_size_total = batch_size * seq_length\n",
        "    # total number of batches we can make\n",
        "    n_batches = len(arr)//batch_size_total\n",
        "\n",
        "    # Keep only enough characters to make full batches\n",
        "    arr = arr[:n_batches * batch_size_total]\n",
        "    # Reshape into batch_size rows\n",
        "    arr = arr.reshape((batch_size, -1))\n",
        "\n",
        "    # iterate through the array, one sequence at a time\n",
        "    for n in range(0, arr.shape[1], seq_length):\n",
        "        # The features\n",
        "        x = arr[:, n:n+seq_length]\n",
        "        # The targets, shifted by one\n",
        "        y = np.zeros_like(x)\n",
        "        try:\n",
        "            y[:, :-1], y[:, -1] = x[:, 1:], arr[:, n+seq_length]\n",
        "        except IndexError:\n",
        "            y[:, :-1], y[:, -1] = x[:, 1:], arr[:, 0]\n",
        "        yield x, y"
      ],
      "metadata": {
        "id": "AslMi7CfnYqn"
      },
      "execution_count": 9,
      "outputs": []
    },
    {
      "cell_type": "markdown",
      "source": [
        "**Test Your Implementation**\n",
        "Now I'll make some data sets and we can check out what's going on as we batch data. Here, as an example, I'm going to use a batch size of 8 and 50 sequence steps."
      ],
      "metadata": {
        "id": "tbuazw5vqVkv"
      }
    },
    {
      "cell_type": "code",
      "source": [
        "batches = get_batches(encoded, 8, 50)\n",
        "x, y = next(batches)"
      ],
      "metadata": {
        "id": "0lbB0KskqYLq"
      },
      "execution_count": 10,
      "outputs": []
    },
    {
      "cell_type": "code",
      "source": [
        "# check if GPU is available\n",
        "train_on_gpu = torch.cuda.is_available()\n",
        "if(train_on_gpu):\n",
        "    print('Training on GPU!')\n",
        "else:\n",
        "    print('No GPU available, training on CPU; consider making n_epochs very small.')"
      ],
      "metadata": {
        "colab": {
          "base_uri": "https://localhost:8080/"
        },
        "id": "NeW5806YxJRt",
        "outputId": "ecbfc475-3868-4d29-f899-ab93a1dc6612"
      },
      "execution_count": 11,
      "outputs": [
        {
          "output_type": "stream",
          "name": "stdout",
          "text": [
            "Training on GPU!\n"
          ]
        }
      ]
    },
    {
      "cell_type": "code",
      "source": [
        "# printing out the first 10 items in a sequence\n",
        "print('x\\n', x[:10, :10])\n",
        "print('\\ny\\n', y[:10, :10])"
      ],
      "metadata": {
        "colab": {
          "base_uri": "https://localhost:8080/"
        },
        "id": "-fw3oTI0qcDf",
        "outputId": "31cfeb4b-3e2d-4ccd-b1b6-739acb151dbe"
      },
      "execution_count": 12,
      "outputs": [
        {
          "output_type": "stream",
          "name": "stdout",
          "text": [
            "x\n",
            " [[37 29 78 56 51 66 77 58 68 81]\n",
            " [48 61  5 58 51 29 78 51 58 78]\n",
            " [66  5 67 58 61 77 58 78 58 10]\n",
            " [48 58 51 29 66 58 22 29 31 66]\n",
            " [58 48 78 39 58 29 66 77 58 51]\n",
            " [22 11 48 48 31 61  5 58 78  5]\n",
            " [58 71  5  5 78 58 29 78 67 58]\n",
            " [12 30 79 61  5 48 36  4  9 58]]\n",
            "\n",
            "y\n",
            " [[29 78 56 51 66 77 58 68 81 81]\n",
            " [61  5 58 51 29 78 51 58 78 51]\n",
            " [ 5 67 58 61 77 58 78 58 10 61]\n",
            " [58 51 29 66 58 22 29 31 66 10]\n",
            " [48 78 39 58 29 66 77 58 51 66]\n",
            " [11 48 48 31 61  5 58 78  5 67]\n",
            " [71  5  5 78 58 29 78 67 58 48]\n",
            " [30 79 61  5 48 36  4  9 58 59]]\n"
          ]
        }
      ]
    },
    {
      "cell_type": "markdown",
      "source": [
        "\n",
        "LSTM Inputs/Outputs"
      ],
      "metadata": {
        "id": "pUj-6E4uAXHL"
      }
    },
    {
      "cell_type": "code",
      "source": [
        "# check if GPU is available\n",
        "train_on_gpu = torch.cuda.is_available()\n",
        "if(train_on_gpu):\n",
        "    print('Training on GPU!')\n",
        "else:\n",
        "    print('No GPU available, training on CPU; consider making n_epochs very small.')"
      ],
      "metadata": {
        "colab": {
          "base_uri": "https://localhost:8080/"
        },
        "id": "H1kgJ_aH599z",
        "outputId": "193df835-7312-4071-8116-38ddca2842e9"
      },
      "execution_count": 13,
      "outputs": [
        {
          "output_type": "stream",
          "name": "stdout",
          "text": [
            "Training on GPU!\n"
          ]
        }
      ]
    },
    {
      "cell_type": "code",
      "source": [
        "class CharRNN(nn.Module):\n",
        "\n",
        "    def __init__(self, tokens, n_hidden=256, n_layers=2,\n",
        "                               drop_prob=0.5, lr=0.001):\n",
        "        super().__init__()\n",
        "        self.drop_prob = drop_prob\n",
        "        self.n_layers = n_layers\n",
        "        self.n_hidden = n_hidden\n",
        "        self.lr = lr\n",
        "\n",
        "        # creating character dictionaries\n",
        "        self.chars = tokens\n",
        "        self.int2char = dict(enumerate(self.chars))\n",
        "        self.char2int = {ch: ii for ii, ch in self.int2char.items()}\n",
        "\n",
        "        ## TODO: define the LSTM\n",
        "        self.lstm = nn.LSTM(len(self.chars), n_hidden, n_layers,\n",
        "                            dropout=drop_prob, batch_first=True)\n",
        "\n",
        "        ## TODO: define a dropout layer\n",
        "        self.dropout = nn.Dropout(drop_prob)\n",
        "\n",
        "        ## TODO: define the final, fully-connected output layer\n",
        "        self.fc = nn.Linear(n_hidden, len(self.chars))\n",
        "\n",
        "\n",
        "    def forward(self, x, hidden):\n",
        "        ''' Forward pass through the network.\n",
        "            These inputs are x, and the hidden/cell state `hidden`. '''\n",
        "\n",
        "        ## TODO: Get the outputs and the new hidden state from the lstm\n",
        "        r_output, hidden = self.lstm(x, hidden)\n",
        "\n",
        "        ## TODO: pass through a dropout layer\n",
        "        out = self.dropout(r_output)\n",
        "\n",
        "        # Stack up LSTM outputs using view\n",
        "        # you may need to use contiguous to reshape the output\n",
        "        out = out.contiguous().view(-1, self.n_hidden)\n",
        "\n",
        "        ## TODO: put x through the fully-connected layer\n",
        "        out = self.fc(out)\n",
        "\n",
        "        # return the final output and the hidden state\n",
        "        return out, hidden\n",
        "\n",
        "\n",
        "    def init_hidden(self, batch_size):\n",
        "        ''' Initializes hidden state '''\n",
        "        # Create two new tensors with sizes n_layers x batch_size x n_hidden,\n",
        "        # initialized to zero, for hidden state and cell state of LSTM\n",
        "        weight = next(self.parameters()).data\n",
        "\n",
        "        if (train_on_gpu):\n",
        "            hidden = (weight.new(self.n_layers, batch_size, self.n_hidden).zero_().cuda(),\n",
        "                  weight.new(self.n_layers, batch_size, self.n_hidden).zero_().cuda())\n",
        "        else:\n",
        "            hidden = (weight.new(self.n_layers, batch_size, self.n_hidden).zero_(),\n",
        "                      weight.new(self.n_layers, batch_size, self.n_hidden).zero_())\n",
        "\n",
        "        return hidden\n",
        ""
      ],
      "metadata": {
        "id": "667MNSBZ6uGT"
      },
      "execution_count": 14,
      "outputs": []
    },
    {
      "cell_type": "markdown",
      "source": [
        "Time to train"
      ],
      "metadata": {
        "id": "zz883SQ-AanS"
      }
    },
    {
      "cell_type": "code",
      "source": [
        "def train(net, data, epochs=10, batch_size=10, seq_length=50, lr=0.001, clip=5, val_frac=0.1, print_every=10):\n",
        "    ''' Training a network\n",
        "\n",
        "        Arguments\n",
        "        ---------\n",
        "\n",
        "        net: CharRNN network\n",
        "        data: text data to train the network\n",
        "        epochs: Number of epochs to train\n",
        "        batch_size: Number of mini-sequences per mini-batch, aka batch size\n",
        "        seq_length: Number of character steps per mini-batch\n",
        "        lr: learning rate\n",
        "        clip: gradient clipping\n",
        "        val_frac: Fraction of data to hold out for validation\n",
        "        print_every: Number of steps for printing training and validation loss\n",
        "\n",
        "    '''\n",
        "    net.train()\n",
        "\n",
        "    opt = torch.optim.Adam(net.parameters(), lr=lr)\n",
        "    criterion = nn.CrossEntropyLoss()\n",
        "\n",
        "    # create training and validation data\n",
        "    val_idx = int(len(data)*(1-val_frac))\n",
        "    data, val_data = data[:val_idx], data[val_idx:]\n",
        "\n",
        "    if(train_on_gpu):\n",
        "        net.cuda()\n",
        "\n",
        "    counter = 0\n",
        "    n_chars = len(net.chars)\n",
        "    for e in range(epochs):\n",
        "        # initialize hidden state\n",
        "        h = net.init_hidden(batch_size)\n",
        "\n",
        "        for x, y in get_batches(data, batch_size, seq_length):\n",
        "            counter += 1\n",
        "\n",
        "            # One-hot encode our data and make them Torch tensors\n",
        "            x = one_hot_encode(x, n_chars)\n",
        "            inputs, targets = torch.from_numpy(x), torch.from_numpy(y)\n",
        "\n",
        "            if(train_on_gpu):\n",
        "                inputs, targets = inputs.cuda(), targets.cuda()\n",
        "\n",
        "            # Creating new variables for the hidden state, otherwise\n",
        "            # we'd backprop through the entire training history\n",
        "            h = tuple([each.data for each in h])\n",
        "\n",
        "            # zero accumulated gradients\n",
        "            net.zero_grad()\n",
        "\n",
        "            # get the output from the model\n",
        "            output, h = net(inputs, h)\n",
        "\n",
        "            # calculate the loss and perform backprop\n",
        "            loss = criterion(output, targets.view(batch_size*seq_length).long())\n",
        "            loss.backward()\n",
        "            # `clip_grad_norm` helps prevent the exploding gradient problem in RNNs / LSTMs.\n",
        "            nn.utils.clip_grad_norm_(net.parameters(), clip)\n",
        "            opt.step()\n",
        "\n",
        "            # loss stats\n",
        "            if counter % print_every == 0:\n",
        "                # Get validation loss\n",
        "                val_h = net.init_hidden(batch_size)\n",
        "                val_losses = []\n",
        "                net.eval()\n",
        "                for x, y in get_batches(val_data, batch_size, seq_length):\n",
        "                    # One-hot encode our data and make them Torch tensors\n",
        "                    x = one_hot_encode(x, n_chars)\n",
        "                    x, y = torch.from_numpy(x), torch.from_numpy(y)\n",
        "\n",
        "                    # Creating new variables for the hidden state, otherwise\n",
        "                    # we'd backprop through the entire training history\n",
        "                    val_h = tuple([each.data for each in val_h])\n",
        "\n",
        "                    inputs, targets = x, y\n",
        "                    if(train_on_gpu):\n",
        "                        inputs, targets = inputs.cuda(), targets.cuda()\n",
        "\n",
        "                    output, val_h = net(inputs, val_h)\n",
        "                    val_loss = criterion(output, targets.view(batch_size*seq_length).long())\n",
        "\n",
        "                    val_losses.append(val_loss.item())\n",
        "\n",
        "                net.train() # reset to train mode after iterationg through validation data\n",
        "\n",
        "                print(\"Epoch: {}/{}...\".format(e+1, epochs),\n",
        "                      \"Step: {}...\".format(counter),\n",
        "                      \"Loss: {:.4f}...\".format(loss.item()),\n",
        "                      \"Val Loss: {:.4f}\".format(np.mean(val_losses)))"
      ],
      "metadata": {
        "id": "60tVTzDp8chC"
      },
      "execution_count": 15,
      "outputs": []
    },
    {
      "cell_type": "code",
      "source": [
        "# define and print the net\n",
        "n_hidden=512\n",
        "n_layers=2\n",
        "\n",
        "net = CharRNN(chars, n_hidden, n_layers)\n",
        "print(net)"
      ],
      "metadata": {
        "colab": {
          "base_uri": "https://localhost:8080/"
        },
        "id": "Kx3AIafB8zfR",
        "outputId": "a5224817-f55f-4cea-f552-15c15c7d6ec3"
      },
      "execution_count": 16,
      "outputs": [
        {
          "output_type": "stream",
          "name": "stdout",
          "text": [
            "CharRNN(\n",
            "  (lstm): LSTM(83, 512, num_layers=2, batch_first=True, dropout=0.5)\n",
            "  (dropout): Dropout(p=0.5, inplace=False)\n",
            "  (fc): Linear(in_features=512, out_features=83, bias=True)\n",
            ")\n"
          ]
        }
      ]
    },
    {
      "cell_type": "code",
      "source": [
        "batch_size = 128\n",
        "seq_length = 100\n",
        "n_epochs = 20 # start smaller if you are just testing initial behavior\n",
        "\n",
        "# train the model\n",
        "train(net, encoded, epochs=n_epochs, batch_size=batch_size, seq_length=seq_length, lr=0.001, print_every=10)"
      ],
      "metadata": {
        "colab": {
          "base_uri": "https://localhost:8080/"
        },
        "id": "j8sDa01582r7",
        "outputId": "818c423c-46c3-4eb9-a98a-07a0fcb67596"
      },
      "execution_count": 17,
      "outputs": [
        {
          "output_type": "stream",
          "name": "stdout",
          "text": [
            "Epoch: 1/20... Step: 10... Loss: 3.2720... Val Loss: 3.2140\n",
            "Epoch: 1/20... Step: 20... Loss: 3.1551... Val Loss: 3.1400\n",
            "Epoch: 1/20... Step: 30... Loss: 3.1462... Val Loss: 3.1255\n",
            "Epoch: 1/20... Step: 40... Loss: 3.1168... Val Loss: 3.1200\n",
            "Epoch: 1/20... Step: 50... Loss: 3.1440... Val Loss: 3.1174\n",
            "Epoch: 1/20... Step: 60... Loss: 3.1151... Val Loss: 3.1150\n",
            "Epoch: 1/20... Step: 70... Loss: 3.1064... Val Loss: 3.1126\n",
            "Epoch: 1/20... Step: 80... Loss: 3.1167... Val Loss: 3.1051\n",
            "Epoch: 1/20... Step: 90... Loss: 3.1055... Val Loss: 3.0865\n",
            "Epoch: 1/20... Step: 100... Loss: 3.0654... Val Loss: 3.0454\n",
            "Epoch: 1/20... Step: 110... Loss: 2.9939... Val Loss: 2.9604\n",
            "Epoch: 1/20... Step: 120... Loss: 2.8504... Val Loss: 2.8521\n",
            "Epoch: 1/20... Step: 130... Loss: 2.7966... Val Loss: 2.7671\n",
            "Epoch: 2/20... Step: 140... Loss: 2.7023... Val Loss: 2.6712\n",
            "Epoch: 2/20... Step: 150... Loss: 2.6185... Val Loss: 2.5665\n",
            "Epoch: 2/20... Step: 160... Loss: 2.5445... Val Loss: 2.5047\n",
            "Epoch: 2/20... Step: 170... Loss: 2.4722... Val Loss: 2.4530\n",
            "Epoch: 2/20... Step: 180... Loss: 2.4446... Val Loss: 2.4165\n",
            "Epoch: 2/20... Step: 190... Loss: 2.3924... Val Loss: 2.3856\n",
            "Epoch: 2/20... Step: 200... Loss: 2.3970... Val Loss: 2.3636\n",
            "Epoch: 2/20... Step: 210... Loss: 2.3662... Val Loss: 2.3318\n",
            "Epoch: 2/20... Step: 220... Loss: 2.3188... Val Loss: 2.3032\n",
            "Epoch: 2/20... Step: 230... Loss: 2.3100... Val Loss: 2.2754\n",
            "Epoch: 2/20... Step: 240... Loss: 2.2836... Val Loss: 2.2512\n",
            "Epoch: 2/20... Step: 250... Loss: 2.2230... Val Loss: 2.2275\n",
            "Epoch: 2/20... Step: 260... Loss: 2.1997... Val Loss: 2.1965\n",
            "Epoch: 2/20... Step: 270... Loss: 2.2097... Val Loss: 2.1753\n",
            "Epoch: 3/20... Step: 280... Loss: 2.1993... Val Loss: 2.1512\n",
            "Epoch: 3/20... Step: 290... Loss: 2.1586... Val Loss: 2.1252\n",
            "Epoch: 3/20... Step: 300... Loss: 2.1348... Val Loss: 2.1029\n",
            "Epoch: 3/20... Step: 310... Loss: 2.1032... Val Loss: 2.0866\n",
            "Epoch: 3/20... Step: 320... Loss: 2.0834... Val Loss: 2.0655\n",
            "Epoch: 3/20... Step: 330... Loss: 2.0520... Val Loss: 2.0500\n",
            "Epoch: 3/20... Step: 340... Loss: 2.0679... Val Loss: 2.0250\n",
            "Epoch: 3/20... Step: 350... Loss: 2.0474... Val Loss: 2.0088\n",
            "Epoch: 3/20... Step: 360... Loss: 1.9826... Val Loss: 1.9942\n",
            "Epoch: 3/20... Step: 370... Loss: 2.0117... Val Loss: 1.9726\n",
            "Epoch: 3/20... Step: 380... Loss: 1.9867... Val Loss: 1.9613\n",
            "Epoch: 3/20... Step: 390... Loss: 1.9547... Val Loss: 1.9450\n",
            "Epoch: 3/20... Step: 400... Loss: 1.9274... Val Loss: 1.9269\n",
            "Epoch: 3/20... Step: 410... Loss: 1.9393... Val Loss: 1.9144\n",
            "Epoch: 4/20... Step: 420... Loss: 1.9313... Val Loss: 1.9040\n",
            "Epoch: 4/20... Step: 430... Loss: 1.9091... Val Loss: 1.8798\n",
            "Epoch: 4/20... Step: 440... Loss: 1.9074... Val Loss: 1.8776\n",
            "Epoch: 4/20... Step: 450... Loss: 1.8447... Val Loss: 1.8585\n",
            "Epoch: 4/20... Step: 460... Loss: 1.8333... Val Loss: 1.8485\n",
            "Epoch: 4/20... Step: 470... Loss: 1.8666... Val Loss: 1.8386\n",
            "Epoch: 4/20... Step: 480... Loss: 1.8463... Val Loss: 1.8205\n",
            "Epoch: 4/20... Step: 490... Loss: 1.8449... Val Loss: 1.8098\n",
            "Epoch: 4/20... Step: 500... Loss: 1.8420... Val Loss: 1.7964\n",
            "Epoch: 4/20... Step: 510... Loss: 1.8186... Val Loss: 1.7926\n",
            "Epoch: 4/20... Step: 520... Loss: 1.8274... Val Loss: 1.7782\n",
            "Epoch: 4/20... Step: 530... Loss: 1.7802... Val Loss: 1.7735\n",
            "Epoch: 4/20... Step: 540... Loss: 1.7561... Val Loss: 1.7584\n",
            "Epoch: 4/20... Step: 550... Loss: 1.7966... Val Loss: 1.7500\n",
            "Epoch: 5/20... Step: 560... Loss: 1.7586... Val Loss: 1.7371\n",
            "Epoch: 5/20... Step: 570... Loss: 1.7546... Val Loss: 1.7302\n",
            "Epoch: 5/20... Step: 580... Loss: 1.7336... Val Loss: 1.7220\n",
            "Epoch: 5/20... Step: 590... Loss: 1.7280... Val Loss: 1.7117\n",
            "Epoch: 5/20... Step: 600... Loss: 1.7233... Val Loss: 1.7075\n",
            "Epoch: 5/20... Step: 610... Loss: 1.6955... Val Loss: 1.6992\n",
            "Epoch: 5/20... Step: 620... Loss: 1.7006... Val Loss: 1.6954\n",
            "Epoch: 5/20... Step: 630... Loss: 1.7196... Val Loss: 1.6862\n",
            "Epoch: 5/20... Step: 640... Loss: 1.6841... Val Loss: 1.6761\n",
            "Epoch: 5/20... Step: 650... Loss: 1.6802... Val Loss: 1.6713\n",
            "Epoch: 5/20... Step: 660... Loss: 1.6546... Val Loss: 1.6640\n",
            "Epoch: 5/20... Step: 670... Loss: 1.6882... Val Loss: 1.6601\n",
            "Epoch: 5/20... Step: 680... Loss: 1.6734... Val Loss: 1.6521\n",
            "Epoch: 5/20... Step: 690... Loss: 1.6554... Val Loss: 1.6484\n",
            "Epoch: 6/20... Step: 700... Loss: 1.6577... Val Loss: 1.6385\n",
            "Epoch: 6/20... Step: 710... Loss: 1.6488... Val Loss: 1.6375\n",
            "Epoch: 6/20... Step: 720... Loss: 1.6368... Val Loss: 1.6267\n",
            "Epoch: 6/20... Step: 730... Loss: 1.6433... Val Loss: 1.6237\n",
            "Epoch: 6/20... Step: 740... Loss: 1.6074... Val Loss: 1.6149\n",
            "Epoch: 6/20... Step: 750... Loss: 1.5985... Val Loss: 1.6131\n",
            "Epoch: 6/20... Step: 760... Loss: 1.6439... Val Loss: 1.6048\n",
            "Epoch: 6/20... Step: 770... Loss: 1.6168... Val Loss: 1.6044\n",
            "Epoch: 6/20... Step: 780... Loss: 1.5995... Val Loss: 1.5933\n",
            "Epoch: 6/20... Step: 790... Loss: 1.5891... Val Loss: 1.5924\n",
            "Epoch: 6/20... Step: 800... Loss: 1.6004... Val Loss: 1.5839\n",
            "Epoch: 6/20... Step: 810... Loss: 1.5803... Val Loss: 1.5822\n",
            "Epoch: 6/20... Step: 820... Loss: 1.5531... Val Loss: 1.5759\n",
            "Epoch: 6/20... Step: 830... Loss: 1.5954... Val Loss: 1.5702\n",
            "Epoch: 7/20... Step: 840... Loss: 1.5571... Val Loss: 1.5709\n",
            "Epoch: 7/20... Step: 850... Loss: 1.5682... Val Loss: 1.5607\n",
            "Epoch: 7/20... Step: 860... Loss: 1.5566... Val Loss: 1.5566\n",
            "Epoch: 7/20... Step: 870... Loss: 1.5645... Val Loss: 1.5540\n",
            "Epoch: 7/20... Step: 880... Loss: 1.5576... Val Loss: 1.5508\n",
            "Epoch: 7/20... Step: 890... Loss: 1.5590... Val Loss: 1.5452\n",
            "Epoch: 7/20... Step: 900... Loss: 1.5445... Val Loss: 1.5436\n",
            "Epoch: 7/20... Step: 910... Loss: 1.5082... Val Loss: 1.5413\n",
            "Epoch: 7/20... Step: 920... Loss: 1.5421... Val Loss: 1.5340\n",
            "Epoch: 7/20... Step: 930... Loss: 1.5178... Val Loss: 1.5311\n",
            "Epoch: 7/20... Step: 940... Loss: 1.5311... Val Loss: 1.5267\n",
            "Epoch: 7/20... Step: 950... Loss: 1.5291... Val Loss: 1.5221\n",
            "Epoch: 7/20... Step: 960... Loss: 1.5386... Val Loss: 1.5170\n",
            "Epoch: 7/20... Step: 970... Loss: 1.5313... Val Loss: 1.5144\n",
            "Epoch: 8/20... Step: 980... Loss: 1.5158... Val Loss: 1.5165\n",
            "Epoch: 8/20... Step: 990... Loss: 1.5164... Val Loss: 1.5078\n",
            "Epoch: 8/20... Step: 1000... Loss: 1.5076... Val Loss: 1.5057\n",
            "Epoch: 8/20... Step: 1010... Loss: 1.5380... Val Loss: 1.5008\n",
            "Epoch: 8/20... Step: 1020... Loss: 1.5091... Val Loss: 1.4996\n",
            "Epoch: 8/20... Step: 1030... Loss: 1.4938... Val Loss: 1.4979\n",
            "Epoch: 8/20... Step: 1040... Loss: 1.4960... Val Loss: 1.4968\n",
            "Epoch: 8/20... Step: 1050... Loss: 1.4733... Val Loss: 1.4944\n",
            "Epoch: 8/20... Step: 1060... Loss: 1.4779... Val Loss: 1.4859\n",
            "Epoch: 8/20... Step: 1070... Loss: 1.4868... Val Loss: 1.4862\n",
            "Epoch: 8/20... Step: 1080... Loss: 1.4814... Val Loss: 1.4806\n",
            "Epoch: 8/20... Step: 1090... Loss: 1.4640... Val Loss: 1.4754\n",
            "Epoch: 8/20... Step: 1100... Loss: 1.4597... Val Loss: 1.4715\n",
            "Epoch: 8/20... Step: 1110... Loss: 1.4711... Val Loss: 1.4696\n",
            "Epoch: 9/20... Step: 1120... Loss: 1.4743... Val Loss: 1.4716\n",
            "Epoch: 9/20... Step: 1130... Loss: 1.4658... Val Loss: 1.4647\n",
            "Epoch: 9/20... Step: 1140... Loss: 1.4757... Val Loss: 1.4609\n",
            "Epoch: 9/20... Step: 1150... Loss: 1.4886... Val Loss: 1.4605\n",
            "Epoch: 9/20... Step: 1160... Loss: 1.4356... Val Loss: 1.4569\n",
            "Epoch: 9/20... Step: 1170... Loss: 1.4509... Val Loss: 1.4588\n",
            "Epoch: 9/20... Step: 1180... Loss: 1.4397... Val Loss: 1.4569\n",
            "Epoch: 9/20... Step: 1190... Loss: 1.4736... Val Loss: 1.4537\n",
            "Epoch: 9/20... Step: 1200... Loss: 1.4309... Val Loss: 1.4488\n",
            "Epoch: 9/20... Step: 1210... Loss: 1.4287... Val Loss: 1.4473\n",
            "Epoch: 9/20... Step: 1220... Loss: 1.4347... Val Loss: 1.4458\n",
            "Epoch: 9/20... Step: 1230... Loss: 1.4131... Val Loss: 1.4412\n",
            "Epoch: 9/20... Step: 1240... Loss: 1.4149... Val Loss: 1.4394\n",
            "Epoch: 9/20... Step: 1250... Loss: 1.4276... Val Loss: 1.4385\n",
            "Epoch: 10/20... Step: 1260... Loss: 1.4357... Val Loss: 1.4364\n",
            "Epoch: 10/20... Step: 1270... Loss: 1.4274... Val Loss: 1.4345\n",
            "Epoch: 10/20... Step: 1280... Loss: 1.4393... Val Loss: 1.4296\n",
            "Epoch: 10/20... Step: 1290... Loss: 1.4259... Val Loss: 1.4320\n",
            "Epoch: 10/20... Step: 1300... Loss: 1.4162... Val Loss: 1.4288\n",
            "Epoch: 10/20... Step: 1310... Loss: 1.4254... Val Loss: 1.4315\n",
            "Epoch: 10/20... Step: 1320... Loss: 1.3904... Val Loss: 1.4269\n",
            "Epoch: 10/20... Step: 1330... Loss: 1.4144... Val Loss: 1.4246\n",
            "Epoch: 10/20... Step: 1340... Loss: 1.3875... Val Loss: 1.4182\n",
            "Epoch: 10/20... Step: 1350... Loss: 1.3795... Val Loss: 1.4187\n",
            "Epoch: 10/20... Step: 1360... Loss: 1.3872... Val Loss: 1.4189\n",
            "Epoch: 10/20... Step: 1370... Loss: 1.3830... Val Loss: 1.4137\n",
            "Epoch: 10/20... Step: 1380... Loss: 1.4175... Val Loss: 1.4097\n",
            "Epoch: 10/20... Step: 1390... Loss: 1.4259... Val Loss: 1.4083\n",
            "Epoch: 11/20... Step: 1400... Loss: 1.4250... Val Loss: 1.4137\n",
            "Epoch: 11/20... Step: 1410... Loss: 1.4434... Val Loss: 1.4076\n",
            "Epoch: 11/20... Step: 1420... Loss: 1.4129... Val Loss: 1.4051\n",
            "Epoch: 11/20... Step: 1430... Loss: 1.3781... Val Loss: 1.4086\n",
            "Epoch: 11/20... Step: 1440... Loss: 1.4244... Val Loss: 1.4034\n",
            "Epoch: 11/20... Step: 1450... Loss: 1.3438... Val Loss: 1.4029\n",
            "Epoch: 11/20... Step: 1460... Loss: 1.3758... Val Loss: 1.4038\n",
            "Epoch: 11/20... Step: 1470... Loss: 1.3689... Val Loss: 1.4006\n",
            "Epoch: 11/20... Step: 1480... Loss: 1.3850... Val Loss: 1.3935\n",
            "Epoch: 11/20... Step: 1490... Loss: 1.3697... Val Loss: 1.3971\n",
            "Epoch: 11/20... Step: 1500... Loss: 1.3554... Val Loss: 1.3978\n",
            "Epoch: 11/20... Step: 1510... Loss: 1.3464... Val Loss: 1.3935\n",
            "Epoch: 11/20... Step: 1520... Loss: 1.3842... Val Loss: 1.3864\n",
            "Epoch: 12/20... Step: 1530... Loss: 1.4285... Val Loss: 1.3899\n",
            "Epoch: 12/20... Step: 1540... Loss: 1.3757... Val Loss: 1.3882\n",
            "Epoch: 12/20... Step: 1550... Loss: 1.3799... Val Loss: 1.3856\n",
            "Epoch: 12/20... Step: 1560... Loss: 1.3956... Val Loss: 1.3800\n",
            "Epoch: 12/20... Step: 1570... Loss: 1.3415... Val Loss: 1.3842\n",
            "Epoch: 12/20... Step: 1580... Loss: 1.3314... Val Loss: 1.3811\n",
            "Epoch: 12/20... Step: 1590... Loss: 1.3225... Val Loss: 1.3832\n",
            "Epoch: 12/20... Step: 1600... Loss: 1.3483... Val Loss: 1.3821\n",
            "Epoch: 12/20... Step: 1610... Loss: 1.3364... Val Loss: 1.3822\n",
            "Epoch: 12/20... Step: 1620... Loss: 1.3388... Val Loss: 1.3743\n",
            "Epoch: 12/20... Step: 1630... Loss: 1.3635... Val Loss: 1.3777\n",
            "Epoch: 12/20... Step: 1640... Loss: 1.3482... Val Loss: 1.3799\n",
            "Epoch: 12/20... Step: 1650... Loss: 1.3143... Val Loss: 1.3767\n",
            "Epoch: 12/20... Step: 1660... Loss: 1.3660... Val Loss: 1.3730\n",
            "Epoch: 13/20... Step: 1670... Loss: 1.3434... Val Loss: 1.3748\n",
            "Epoch: 13/20... Step: 1680... Loss: 1.3443... Val Loss: 1.3714\n",
            "Epoch: 13/20... Step: 1690... Loss: 1.3254... Val Loss: 1.3687\n",
            "Epoch: 13/20... Step: 1700... Loss: 1.3267... Val Loss: 1.3680\n",
            "Epoch: 13/20... Step: 1710... Loss: 1.3124... Val Loss: 1.3671\n",
            "Epoch: 13/20... Step: 1720... Loss: 1.3221... Val Loss: 1.3651\n",
            "Epoch: 13/20... Step: 1730... Loss: 1.3488... Val Loss: 1.3644\n",
            "Epoch: 13/20... Step: 1740... Loss: 1.3197... Val Loss: 1.3646\n",
            "Epoch: 13/20... Step: 1750... Loss: 1.2889... Val Loss: 1.3680\n",
            "Epoch: 13/20... Step: 1760... Loss: 1.3234... Val Loss: 1.3567\n",
            "Epoch: 13/20... Step: 1770... Loss: 1.3384... Val Loss: 1.3625\n",
            "Epoch: 13/20... Step: 1780... Loss: 1.3231... Val Loss: 1.3594\n",
            "Epoch: 13/20... Step: 1790... Loss: 1.3000... Val Loss: 1.3560\n",
            "Epoch: 13/20... Step: 1800... Loss: 1.3221... Val Loss: 1.3543\n",
            "Epoch: 14/20... Step: 1810... Loss: 1.3360... Val Loss: 1.3593\n",
            "Epoch: 14/20... Step: 1820... Loss: 1.3168... Val Loss: 1.3552\n",
            "Epoch: 14/20... Step: 1830... Loss: 1.3342... Val Loss: 1.3540\n",
            "Epoch: 14/20... Step: 1840... Loss: 1.2856... Val Loss: 1.3564\n",
            "Epoch: 14/20... Step: 1850... Loss: 1.2658... Val Loss: 1.3539\n",
            "Epoch: 14/20... Step: 1860... Loss: 1.3238... Val Loss: 1.3542\n",
            "Epoch: 14/20... Step: 1870... Loss: 1.3316... Val Loss: 1.3500\n",
            "Epoch: 14/20... Step: 1880... Loss: 1.3221... Val Loss: 1.3531\n",
            "Epoch: 14/20... Step: 1890... Loss: 1.3410... Val Loss: 1.3514\n",
            "Epoch: 14/20... Step: 1900... Loss: 1.3143... Val Loss: 1.3453\n",
            "Epoch: 14/20... Step: 1910... Loss: 1.3139... Val Loss: 1.3487\n",
            "Epoch: 14/20... Step: 1920... Loss: 1.3091... Val Loss: 1.3481\n",
            "Epoch: 14/20... Step: 1930... Loss: 1.2745... Val Loss: 1.3457\n",
            "Epoch: 14/20... Step: 1940... Loss: 1.3308... Val Loss: 1.3409\n",
            "Epoch: 15/20... Step: 1950... Loss: 1.3095... Val Loss: 1.3444\n",
            "Epoch: 15/20... Step: 1960... Loss: 1.3052... Val Loss: 1.3450\n",
            "Epoch: 15/20... Step: 1970... Loss: 1.3016... Val Loss: 1.3407\n",
            "Epoch: 15/20... Step: 1980... Loss: 1.2857... Val Loss: 1.3400\n",
            "Epoch: 15/20... Step: 1990... Loss: 1.2808... Val Loss: 1.3429\n",
            "Epoch: 15/20... Step: 2000... Loss: 1.2677... Val Loss: 1.3433\n",
            "Epoch: 15/20... Step: 2010... Loss: 1.2905... Val Loss: 1.3419\n",
            "Epoch: 15/20... Step: 2020... Loss: 1.3100... Val Loss: 1.3460\n",
            "Epoch: 15/20... Step: 2030... Loss: 1.2831... Val Loss: 1.3369\n",
            "Epoch: 15/20... Step: 2040... Loss: 1.2915... Val Loss: 1.3347\n",
            "Epoch: 15/20... Step: 2050... Loss: 1.2768... Val Loss: 1.3380\n",
            "Epoch: 15/20... Step: 2060... Loss: 1.2871... Val Loss: 1.3351\n",
            "Epoch: 15/20... Step: 2070... Loss: 1.3009... Val Loss: 1.3325\n",
            "Epoch: 15/20... Step: 2080... Loss: 1.2882... Val Loss: 1.3345\n",
            "Epoch: 16/20... Step: 2090... Loss: 1.3000... Val Loss: 1.3357\n",
            "Epoch: 16/20... Step: 2100... Loss: 1.2824... Val Loss: 1.3330\n",
            "Epoch: 16/20... Step: 2110... Loss: 1.2741... Val Loss: 1.3313\n",
            "Epoch: 16/20... Step: 2120... Loss: 1.2913... Val Loss: 1.3316\n",
            "Epoch: 16/20... Step: 2130... Loss: 1.2561... Val Loss: 1.3326\n",
            "Epoch: 16/20... Step: 2140... Loss: 1.2713... Val Loss: 1.3291\n",
            "Epoch: 16/20... Step: 2150... Loss: 1.2957... Val Loss: 1.3278\n",
            "Epoch: 16/20... Step: 2160... Loss: 1.2783... Val Loss: 1.3314\n",
            "Epoch: 16/20... Step: 2170... Loss: 1.2708... Val Loss: 1.3235\n",
            "Epoch: 16/20... Step: 2180... Loss: 1.2588... Val Loss: 1.3198\n",
            "Epoch: 16/20... Step: 2190... Loss: 1.2818... Val Loss: 1.3261\n",
            "Epoch: 16/20... Step: 2200... Loss: 1.2662... Val Loss: 1.3260\n",
            "Epoch: 16/20... Step: 2210... Loss: 1.2266... Val Loss: 1.3192\n",
            "Epoch: 16/20... Step: 2220... Loss: 1.2691... Val Loss: 1.3247\n",
            "Epoch: 17/20... Step: 2230... Loss: 1.2505... Val Loss: 1.3214\n",
            "Epoch: 17/20... Step: 2240... Loss: 1.2653... Val Loss: 1.3226\n",
            "Epoch: 17/20... Step: 2250... Loss: 1.2531... Val Loss: 1.3197\n",
            "Epoch: 17/20... Step: 2260... Loss: 1.2525... Val Loss: 1.3192\n",
            "Epoch: 17/20... Step: 2270... Loss: 1.2639... Val Loss: 1.3218\n",
            "Epoch: 17/20... Step: 2280... Loss: 1.2666... Val Loss: 1.3166\n",
            "Epoch: 17/20... Step: 2290... Loss: 1.2689... Val Loss: 1.3202\n",
            "Epoch: 17/20... Step: 2300... Loss: 1.2402... Val Loss: 1.3206\n",
            "Epoch: 17/20... Step: 2310... Loss: 1.2536... Val Loss: 1.3119\n",
            "Epoch: 17/20... Step: 2320... Loss: 1.2495... Val Loss: 1.3105\n",
            "Epoch: 17/20... Step: 2330... Loss: 1.2480... Val Loss: 1.3170\n",
            "Epoch: 17/20... Step: 2340... Loss: 1.2648... Val Loss: 1.3152\n",
            "Epoch: 17/20... Step: 2350... Loss: 1.2667... Val Loss: 1.3138\n",
            "Epoch: 17/20... Step: 2360... Loss: 1.2725... Val Loss: 1.3105\n",
            "Epoch: 18/20... Step: 2370... Loss: 1.2447... Val Loss: 1.3127\n",
            "Epoch: 18/20... Step: 2380... Loss: 1.2544... Val Loss: 1.3085\n",
            "Epoch: 18/20... Step: 2390... Loss: 1.2426... Val Loss: 1.3098\n",
            "Epoch: 18/20... Step: 2400... Loss: 1.2716... Val Loss: 1.3086\n",
            "Epoch: 18/20... Step: 2410... Loss: 1.2715... Val Loss: 1.3113\n",
            "Epoch: 18/20... Step: 2420... Loss: 1.2381... Val Loss: 1.3043\n",
            "Epoch: 18/20... Step: 2430... Loss: 1.2587... Val Loss: 1.3079\n",
            "Epoch: 18/20... Step: 2440... Loss: 1.2336... Val Loss: 1.3080\n",
            "Epoch: 18/20... Step: 2450... Loss: 1.2292... Val Loss: 1.2994\n",
            "Epoch: 18/20... Step: 2460... Loss: 1.2312... Val Loss: 1.3009\n",
            "Epoch: 18/20... Step: 2470... Loss: 1.2361... Val Loss: 1.2995\n",
            "Epoch: 18/20... Step: 2480... Loss: 1.2237... Val Loss: 1.3034\n",
            "Epoch: 18/20... Step: 2490... Loss: 1.2184... Val Loss: 1.2979\n",
            "Epoch: 18/20... Step: 2500... Loss: 1.2280... Val Loss: 1.2962\n",
            "Epoch: 19/20... Step: 2510... Loss: 1.2332... Val Loss: 1.3025\n",
            "Epoch: 19/20... Step: 2520... Loss: 1.2501... Val Loss: 1.3023\n",
            "Epoch: 19/20... Step: 2530... Loss: 1.2544... Val Loss: 1.2949\n",
            "Epoch: 19/20... Step: 2540... Loss: 1.2575... Val Loss: 1.2937\n",
            "Epoch: 19/20... Step: 2550... Loss: 1.2186... Val Loss: 1.2912\n",
            "Epoch: 19/20... Step: 2560... Loss: 1.2362... Val Loss: 1.2908\n",
            "Epoch: 19/20... Step: 2570... Loss: 1.2233... Val Loss: 1.2915\n",
            "Epoch: 19/20... Step: 2580... Loss: 1.2505... Val Loss: 1.2909\n",
            "Epoch: 19/20... Step: 2590... Loss: 1.2128... Val Loss: 1.2895\n",
            "Epoch: 19/20... Step: 2600... Loss: 1.2123... Val Loss: 1.2882\n",
            "Epoch: 19/20... Step: 2610... Loss: 1.2192... Val Loss: 1.2916\n",
            "Epoch: 19/20... Step: 2620... Loss: 1.2080... Val Loss: 1.2889\n",
            "Epoch: 19/20... Step: 2630... Loss: 1.2122... Val Loss: 1.2782\n",
            "Epoch: 19/20... Step: 2640... Loss: 1.2196... Val Loss: 1.2852\n",
            "Epoch: 20/20... Step: 2650... Loss: 1.2259... Val Loss: 1.2850\n",
            "Epoch: 20/20... Step: 2660... Loss: 1.2244... Val Loss: 1.2905\n",
            "Epoch: 20/20... Step: 2670... Loss: 1.2335... Val Loss: 1.2815\n",
            "Epoch: 20/20... Step: 2680... Loss: 1.2180... Val Loss: 1.2803\n",
            "Epoch: 20/20... Step: 2690... Loss: 1.2129... Val Loss: 1.2854\n",
            "Epoch: 20/20... Step: 2700... Loss: 1.2190... Val Loss: 1.2778\n",
            "Epoch: 20/20... Step: 2710... Loss: 1.1918... Val Loss: 1.2805\n",
            "Epoch: 20/20... Step: 2720... Loss: 1.1984... Val Loss: 1.2817\n",
            "Epoch: 20/20... Step: 2730... Loss: 1.1891... Val Loss: 1.2778\n",
            "Epoch: 20/20... Step: 2740... Loss: 1.1940... Val Loss: 1.2818\n",
            "Epoch: 20/20... Step: 2750... Loss: 1.1962... Val Loss: 1.2856\n",
            "Epoch: 20/20... Step: 2760... Loss: 1.1882... Val Loss: 1.2829\n",
            "Epoch: 20/20... Step: 2770... Loss: 1.2276... Val Loss: 1.2754\n",
            "Epoch: 20/20... Step: 2780... Loss: 1.2534... Val Loss: 1.2730\n"
          ]
        }
      ]
    },
    {
      "cell_type": "markdown",
      "source": [
        "Checkpoint"
      ],
      "metadata": {
        "id": "7je0Y0fpAmzL"
      }
    },
    {
      "cell_type": "code",
      "source": [
        "# change the name, for saving multiple files\n",
        "model_name = 'rnn_20_epoch.net'\n",
        "\n",
        "checkpoint = {'n_hidden': net.n_hidden,\n",
        "              'n_layers': net.n_layers,\n",
        "              'state_dict': net.state_dict(),\n",
        "              'tokens': net.chars}\n",
        "\n",
        "with open(model_name, 'wb') as f:\n",
        "    torch.save(checkpoint, f)"
      ],
      "metadata": {
        "id": "Dl_hJsfC_Nmu"
      },
      "execution_count": 18,
      "outputs": []
    },
    {
      "cell_type": "markdown",
      "source": [
        "Making Predictions"
      ],
      "metadata": {
        "id": "Nw5oSGACAr53"
      }
    },
    {
      "cell_type": "code",
      "source": [
        "def predict(net, char, h=None, top_k=None):\n",
        "        ''' Given a character, predict the next character.\n",
        "            Returns the predicted character and the hidden state.\n",
        "        '''\n",
        "\n",
        "        # tensor inputs\n",
        "        x = np.array([[net.char2int[char]]])\n",
        "        x = one_hot_encode(x, len(net.chars))\n",
        "        inputs = torch.from_numpy(x)\n",
        "\n",
        "        if(train_on_gpu):\n",
        "            inputs = inputs.cuda()\n",
        "\n",
        "        # detach hidden state from history\n",
        "        h = tuple([each.data for each in h])\n",
        "        # get the output of the model\n",
        "        out, h = net(inputs, h)\n",
        "\n",
        "        # get the character probabilities\n",
        "        p = F.softmax(out, dim=1).data\n",
        "        if(train_on_gpu):\n",
        "            p = p.cpu() # move to cpu\n",
        "\n",
        "        # get top characters\n",
        "        if top_k is None:\n",
        "            top_ch = np.arange(len(net.chars))\n",
        "        else:\n",
        "            p, top_ch = p.topk(top_k)\n",
        "            top_ch = top_ch.numpy().squeeze()\n",
        "\n",
        "        # select the likely next character with some element of randomness\n",
        "        p = p.numpy().squeeze()\n",
        "        char = np.random.choice(top_ch, p=p/p.sum())\n",
        "\n",
        "        # return the encoded value of the predicted char and the hidden state\n",
        "        return net.int2char[char], h"
      ],
      "metadata": {
        "id": "F15ojOTk_dX7"
      },
      "execution_count": 19,
      "outputs": []
    },
    {
      "cell_type": "markdown",
      "source": [
        "Primming and Generating Text"
      ],
      "metadata": {
        "id": "4H_5dBERAwYL"
      }
    },
    {
      "cell_type": "code",
      "source": [
        "def sample(net, size, prime='The', top_k=None):\n",
        "\n",
        "    if(train_on_gpu):\n",
        "        net.cuda()\n",
        "    else:\n",
        "        net.cpu()\n",
        "\n",
        "    net.eval() # eval mode\n",
        "\n",
        "    # First off, run through the prime characters\n",
        "    chars = [ch for ch in prime]\n",
        "    h = net.init_hidden(1)\n",
        "    for ch in prime:\n",
        "        char, h = predict(net, ch, h, top_k=top_k)\n",
        "\n",
        "    chars.append(char)\n",
        "\n",
        "    # Now pass in the previous character and get a new one\n",
        "    for ii in range(size):\n",
        "        char, h = predict(net, chars[-1], h, top_k=top_k)\n",
        "        chars.append(char)\n",
        "\n",
        "    return ''.join(chars)"
      ],
      "metadata": {
        "id": "40C0K9HG_mVs"
      },
      "execution_count": 20,
      "outputs": []
    },
    {
      "cell_type": "code",
      "source": [
        "print(sample(net, 1000, prime='Anna', top_k=5))"
      ],
      "metadata": {
        "colab": {
          "base_uri": "https://localhost:8080/"
        },
        "id": "J4vICeCS_oOU",
        "outputId": "3197048f-c65f-43ce-b856-7b827c9bef3e"
      },
      "execution_count": 21,
      "outputs": [
        {
          "output_type": "stream",
          "name": "stdout",
          "text": [
            "Anna and\n",
            "home, seeing his bruther, he was standing to that step of angrily\n",
            "to seen to the sourds of the moment, was to be a sense. And that he\n",
            "saw how he saw his brother, he could not be at the stood. She was\n",
            "ashamed, and would stand to the pain, there, still he\n",
            "said, went to him, and at the pittures of an instant,\n",
            "he had not assented.\n",
            "\n",
            "\"And I want to bear that to me to be attentively, thinking of home\n",
            "than all of the papar...\"\n",
            "\n",
            "\"Oh, well!\" he said wearing. \"There's a sound of meeting.......\"\n",
            "\n",
            "Stepan Arkadyevitch saw all the stands, smiling to himself, said to\n",
            "her forething.\n",
            "\n",
            "\"I did not know that that seems to bring the crowd to her.\"\n",
            "\n",
            "\"Well, what a pieces of a cartious satisfaction of her.\"\n",
            "\n",
            "The patifficulation had never bean in the country to be serving to her\n",
            "how strung in the madder and alruptly as it were, to have the\n",
            "carriage to be foot of the carriage, happeded of herself. To her mother's fine and\n",
            "atstermance, and the crushes had trying all the middle of the prince.\n",
            "\n",
            "He sat down alon\n"
          ]
        }
      ]
    },
    {
      "cell_type": "markdown",
      "source": [
        "Loading a checkpoint"
      ],
      "metadata": {
        "id": "114DwPrfA_9Q"
      }
    },
    {
      "cell_type": "code",
      "source": [
        "# Here we have loaded in a model that trained over 20 epochs `rnn_20_epoch.net`\n",
        "with open('rnn_20_epoch.net', 'rb') as f:\n",
        "    checkpoint = torch.load(f)\n",
        "\n",
        "loaded = CharRNN(checkpoint['tokens'], n_hidden=checkpoint['n_hidden'], n_layers=checkpoint['n_layers'])\n",
        "loaded.load_state_dict(checkpoint['state_dict'])"
      ],
      "metadata": {
        "colab": {
          "base_uri": "https://localhost:8080/"
        },
        "id": "1F7PattG_yah",
        "outputId": "7956226e-6989-48c0-d5d7-33be2527f25f"
      },
      "execution_count": 22,
      "outputs": [
        {
          "output_type": "stream",
          "name": "stderr",
          "text": [
            "<ipython-input-22-38fb18d4d646>:3: FutureWarning: You are using `torch.load` with `weights_only=False` (the current default value), which uses the default pickle module implicitly. It is possible to construct malicious pickle data which will execute arbitrary code during unpickling (See https://github.com/pytorch/pytorch/blob/main/SECURITY.md#untrusted-models for more details). In a future release, the default value for `weights_only` will be flipped to `True`. This limits the functions that could be executed during unpickling. Arbitrary objects will no longer be allowed to be loaded via this mode unless they are explicitly allowlisted by the user via `torch.serialization.add_safe_globals`. We recommend you start setting `weights_only=True` for any use case where you don't have full control of the loaded file. Please open an issue on GitHub for any issues related to this experimental feature.\n",
            "  checkpoint = torch.load(f)\n"
          ]
        },
        {
          "output_type": "execute_result",
          "data": {
            "text/plain": [
              "<All keys matched successfully>"
            ]
          },
          "metadata": {},
          "execution_count": 22
        }
      ]
    },
    {
      "cell_type": "code",
      "source": [
        "# Sample using a loaded model\n",
        "print(sample(loaded, 2000, top_k=5, prime=\"And Levin said\"))"
      ],
      "metadata": {
        "colab": {
          "base_uri": "https://localhost:8080/"
        },
        "id": "0ZHvNLCO_1fA",
        "outputId": "2ac28c50-2326-4ba4-d557-13ede14c1fbb"
      },
      "execution_count": 23,
      "outputs": [
        {
          "output_type": "stream",
          "name": "stdout",
          "text": [
            "And Levin said\n",
            "to Levin.\n",
            "\n",
            "She wine something troubled the colonel. And there waited as though he\n",
            "comes on things. She showed her to began to suppose and had a carriage\n",
            "on the cart, and with shooting face. He saw that he was\n",
            "saying, and her shooting and complocalies.\n",
            "\n",
            "As\n",
            "he seemed to her hatred, he was said, but he had been standing on his face was\n",
            "struck to the memories. She wanted away of his son. He could not\n",
            "come at him as the persons of an instant, that it would be\n",
            "darling. He would say in a single mustress\n",
            "out of the calvion.\n",
            "\n",
            "Antaling her eyes. The doorwards, he felt this he had said a cramsens\n",
            "of the fourth feeling when he had been so must feel that he had\n",
            "not to see her from her shame, to be settled, and there was no one of\n",
            "the pattien he did not can the countrys had been through the filler\n",
            "words on the presiness, and all of them, he could not loogh the\n",
            "country. The princess had all because he had not been to support of the\n",
            "man.\n",
            "\n",
            "He saw in the prince to believe in the same difficult one about\n",
            "her the colonel when he thought of himself in a feeling that he had not\n",
            "as a simtle who had been saying. But he saw her, and settled to the peasant, with\n",
            "some darkness of her shakes.\n",
            "\n",
            "The points whispered it would have taken off his face at his\n",
            "face as he had a sound when the steps of those close hadden tears and\n",
            "a completely care of simpliciatity in his face.\n",
            "\n",
            "This was they were so many lipin fellow, and a law hands were at the study\n",
            "over what he could not see her about his strange fases in the pity, and\n",
            "seeing him in the sould of the servants, he had not been a long while and\n",
            "to get a los with the soff, and had trembled over her at all\n",
            "had a moment of charmess had been a platform.\n",
            "\n",
            "\"Well, what am I was to do in the poon of the province of a\n",
            "conversation in,\" he said in a long shoulder.\n",
            "\n",
            "\"Yes, I shall be so seeing your position; and with that misskes of\n",
            "the time in the cases, but so ill at the same man it would not\n",
            "come for, both of the sound.\"\n",
            "\n",
            "\"What is that tounds me to be done.\"\n",
            "\n",
            "\n"
          ]
        }
      ]
    }
  ]
}